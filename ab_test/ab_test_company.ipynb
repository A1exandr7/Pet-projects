{
 "cells": [
  {
   "cell_type": "markdown",
   "id": "5fee8c5d",
   "metadata": {},
   "source": [
    "# Компания ''1001 лотерейный билет\" провела рассылку пользователям с новым макетом письма направленым на увеличение продаж в мобильном приложении\n",
    "\n",
    "### Задача – сравнить 2 группы и ответить на вопрос: есть ли отличия в поведении участников в зависимости от макета?\n",
    "\n",
    "**Описание данных:**\n",
    "- `group` – Группа(control-без изменений, pilot-новый макет письма)\n",
    "- `user_id` – id пользователя\n",
    "- `flg_deliv_email` – флаг доставки письма до пользователя Email.\n",
    "- `flg_read_email` – Было ли открыто Email письмо.\n",
    "- `flg_open_link_email` – Был ли переход по Email (клик по ссылке/картинке в письме)\n",
    "- `sales_mobile` – Продажи в мобильном приложении.\n",
    "- `sales_total` – Траты пользователя во всех каналах (сайт, мобильный сайт, мобильное приложение, розничные торговые точки и т.д.)"
   ]
  },
  {
   "cell_type": "code",
   "execution_count": 1,
   "id": "ef69242b",
   "metadata": {},
   "outputs": [],
   "source": [
    "import pandas as pd\n",
    "import numpy as np\n",
    "from tqdm.notebook import tqdm\n",
    "import seaborn as sns\n",
    "import matplotlib.pyplot as plt\n",
    "from collections import defaultdict\n",
    "import scipy.stats as stats\n",
    "from scipy.stats import ttest_ind, mannwhitneyu\n",
    "import hashlib\n",
    "import os"
   ]
  },
  {
   "cell_type": "markdown",
   "id": "ac3db877",
   "metadata": {},
   "source": [
    "# Знакомство с данными"
   ]
  },
  {
   "cell_type": "code",
   "execution_count": 2,
   "id": "fd1fc8f0",
   "metadata": {},
   "outputs": [
    {
     "data": {
      "text/html": [
       "<div>\n",
       "<style scoped>\n",
       "    .dataframe tbody tr th:only-of-type {\n",
       "        vertical-align: middle;\n",
       "    }\n",
       "\n",
       "    .dataframe tbody tr th {\n",
       "        vertical-align: top;\n",
       "    }\n",
       "\n",
       "    .dataframe thead th {\n",
       "        text-align: right;\n",
       "    }\n",
       "</style>\n",
       "<table border=\"1\" class=\"dataframe\">\n",
       "  <thead>\n",
       "    <tr style=\"text-align: right;\">\n",
       "      <th></th>\n",
       "      <th>group</th>\n",
       "      <th>user_id</th>\n",
       "      <th>flg_deliv_email</th>\n",
       "      <th>flg_read_email</th>\n",
       "      <th>flg_open_link_email</th>\n",
       "      <th>sales_mobile</th>\n",
       "      <th>sales_total</th>\n",
       "    </tr>\n",
       "  </thead>\n",
       "  <tbody>\n",
       "    <tr>\n",
       "      <th>0</th>\n",
       "      <td>control</td>\n",
       "      <td>5066305263</td>\n",
       "      <td>1</td>\n",
       "      <td>N</td>\n",
       "      <td>0</td>\n",
       "      <td>NaN</td>\n",
       "      <td>350.0</td>\n",
       "    </tr>\n",
       "    <tr>\n",
       "      <th>1</th>\n",
       "      <td>pilot</td>\n",
       "      <td>5070957036</td>\n",
       "      <td>1</td>\n",
       "      <td>N</td>\n",
       "      <td>0</td>\n",
       "      <td>NaN</td>\n",
       "      <td>NaN</td>\n",
       "    </tr>\n",
       "    <tr>\n",
       "      <th>2</th>\n",
       "      <td>control</td>\n",
       "      <td>5071201643</td>\n",
       "      <td>1</td>\n",
       "      <td>N</td>\n",
       "      <td>0</td>\n",
       "      <td>NaN</td>\n",
       "      <td>NaN</td>\n",
       "    </tr>\n",
       "    <tr>\n",
       "      <th>3</th>\n",
       "      <td>control</td>\n",
       "      <td>5071882995</td>\n",
       "      <td>1</td>\n",
       "      <td>N</td>\n",
       "      <td>0</td>\n",
       "      <td>NaN</td>\n",
       "      <td>NaN</td>\n",
       "    </tr>\n",
       "    <tr>\n",
       "      <th>4</th>\n",
       "      <td>control</td>\n",
       "      <td>5075332931</td>\n",
       "      <td>1</td>\n",
       "      <td>N</td>\n",
       "      <td>0</td>\n",
       "      <td>NaN</td>\n",
       "      <td>NaN</td>\n",
       "    </tr>\n",
       "    <tr>\n",
       "      <th>...</th>\n",
       "      <td>...</td>\n",
       "      <td>...</td>\n",
       "      <td>...</td>\n",
       "      <td>...</td>\n",
       "      <td>...</td>\n",
       "      <td>...</td>\n",
       "      <td>...</td>\n",
       "    </tr>\n",
       "    <tr>\n",
       "      <th>10457</th>\n",
       "      <td>control</td>\n",
       "      <td>7533107439282</td>\n",
       "      <td>1</td>\n",
       "      <td>N</td>\n",
       "      <td>0</td>\n",
       "      <td>NaN</td>\n",
       "      <td>NaN</td>\n",
       "    </tr>\n",
       "    <tr>\n",
       "      <th>10458</th>\n",
       "      <td>control</td>\n",
       "      <td>7533107447865</td>\n",
       "      <td>1</td>\n",
       "      <td>Y</td>\n",
       "      <td>0</td>\n",
       "      <td>NaN</td>\n",
       "      <td>NaN</td>\n",
       "    </tr>\n",
       "    <tr>\n",
       "      <th>10459</th>\n",
       "      <td>pilot</td>\n",
       "      <td>7533107448386</td>\n",
       "      <td>1</td>\n",
       "      <td>N</td>\n",
       "      <td>0</td>\n",
       "      <td>NaN</td>\n",
       "      <td>NaN</td>\n",
       "    </tr>\n",
       "    <tr>\n",
       "      <th>10460</th>\n",
       "      <td>pilot</td>\n",
       "      <td>7533239105308</td>\n",
       "      <td>1</td>\n",
       "      <td>N</td>\n",
       "      <td>0</td>\n",
       "      <td>NaN</td>\n",
       "      <td>NaN</td>\n",
       "    </tr>\n",
       "    <tr>\n",
       "      <th>10461</th>\n",
       "      <td>control</td>\n",
       "      <td>7533239195152</td>\n",
       "      <td>1</td>\n",
       "      <td>N</td>\n",
       "      <td>0</td>\n",
       "      <td>NaN</td>\n",
       "      <td>NaN</td>\n",
       "    </tr>\n",
       "  </tbody>\n",
       "</table>\n",
       "<p>10462 rows × 7 columns</p>\n",
       "</div>"
      ],
      "text/plain": [
       "         group        user_id  flg_deliv_email flg_read_email  \\\n",
       "0      control     5066305263                1              N   \n",
       "1        pilot     5070957036                1              N   \n",
       "2      control     5071201643                1              N   \n",
       "3      control     5071882995                1              N   \n",
       "4      control     5075332931                1              N   \n",
       "...        ...            ...              ...            ...   \n",
       "10457  control  7533107439282                1              N   \n",
       "10458  control  7533107447865                1              Y   \n",
       "10459    pilot  7533107448386                1              N   \n",
       "10460    pilot  7533239105308                1              N   \n",
       "10461  control  7533239195152                1              N   \n",
       "\n",
       "       flg_open_link_email  sales_mobile  sales_total  \n",
       "0                        0           NaN        350.0  \n",
       "1                        0           NaN          NaN  \n",
       "2                        0           NaN          NaN  \n",
       "3                        0           NaN          NaN  \n",
       "4                        0           NaN          NaN  \n",
       "...                    ...           ...          ...  \n",
       "10457                    0           NaN          NaN  \n",
       "10458                    0           NaN          NaN  \n",
       "10459                    0           NaN          NaN  \n",
       "10460                    0           NaN          NaN  \n",
       "10461                    0           NaN          NaN  \n",
       "\n",
       "[10462 rows x 7 columns]"
      ]
     },
     "execution_count": 2,
     "metadata": {},
     "output_type": "execute_result"
    }
   ],
   "source": [
    "data = pd.read_csv(os.path.abspath('..') + '\\\\ab_data.csv')\n",
    "data"
   ]
  },
  {
   "cell_type": "code",
   "execution_count": 3,
   "id": "1cb9f2e7",
   "metadata": {},
   "outputs": [
    {
     "data": {
      "text/plain": [
       "Index(['group', 'user_id', 'flg_deliv_email', 'flg_read_email',\n",
       "       'flg_open_link_email', 'sales_mobile', 'sales_total'],\n",
       "      dtype='object')"
      ]
     },
     "execution_count": 3,
     "metadata": {},
     "output_type": "execute_result"
    }
   ],
   "source": [
    "data.columns"
   ]
  },
  {
   "cell_type": "code",
   "execution_count": 4,
   "id": "39448767",
   "metadata": {},
   "outputs": [
    {
     "data": {
      "text/plain": [
       "control    5231\n",
       "pilot      5231\n",
       "Name: group, dtype: int64"
      ]
     },
     "execution_count": 4,
     "metadata": {},
     "output_type": "execute_result"
    }
   ],
   "source": [
    "#смоттрим кол-во пользователей в группах\n",
    "data['group'].value_counts()"
   ]
  },
  {
   "cell_type": "code",
   "execution_count": 5,
   "id": "5eb5972f",
   "metadata": {},
   "outputs": [
    {
     "data": {
      "text/plain": [
       "1    10375\n",
       "0       87\n",
       "Name: flg_deliv_email, dtype: int64"
      ]
     },
     "execution_count": 5,
     "metadata": {},
     "output_type": "execute_result"
    }
   ],
   "source": [
    "#смотрим флаг доставки\n",
    "data['flg_deliv_email'].value_counts()"
   ]
  },
  {
   "cell_type": "code",
   "execution_count": 6,
   "id": "bfec9302",
   "metadata": {},
   "outputs": [
    {
     "data": {
      "text/plain": [
       "N    8056\n",
       "Y    2406\n",
       "Name: flg_read_email, dtype: int64"
      ]
     },
     "execution_count": 6,
     "metadata": {},
     "output_type": "execute_result"
    }
   ],
   "source": [
    "#смотрим флаг прочтения письма\n",
    "data['flg_read_email'].value_counts()"
   ]
  },
  {
   "cell_type": "code",
   "execution_count": 7,
   "id": "40267206",
   "metadata": {},
   "outputs": [
    {
     "data": {
      "text/plain": [
       "0    9987\n",
       "1     475\n",
       "Name: flg_open_link_email, dtype: int64"
      ]
     },
     "execution_count": 7,
     "metadata": {},
     "output_type": "execute_result"
    }
   ],
   "source": [
    "#флаг перехода по ссылке\n",
    "data['flg_open_link_email'].value_counts()"
   ]
  },
  {
   "cell_type": "markdown",
   "id": "a4523daa",
   "metadata": {},
   "source": [
    "## Посмотрим распределение пользователей"
   ]
  },
  {
   "cell_type": "code",
   "execution_count": 8,
   "id": "09ed8115",
   "metadata": {
    "scrolled": false
   },
   "outputs": [
    {
     "data": {
      "image/png": "[encoded data removed]",
      "text/plain": [
       "<Figure size 1000x500 with 1 Axes>"
      ]
     },
     "metadata": {},
     "output_type": "display_data"
    },
    {
     "data": {
      "image/png": "[encoded data removed]",
      "text/plain": [
       "<Figure size 1000x500 with 1 Axes>"
      ]
     },
     "metadata": {},
     "output_type": "display_data"
    },
    {
     "data": {
      "image/png": "[encoded data removed]",
      "text/plain": [
       "<Figure size 1000x500 with 1 Axes>"
      ]
     },
     "metadata": {},
     "output_type": "display_data"
    },
    {
     "data": {
      "image/png": "[encoded data removed]",
      "text/plain": [
       "<Figure size 1000x500 with 1 Axes>"
      ]
     },
     "metadata": {},
     "output_type": "display_data"
    }
   ],
   "source": [
    "for column in ['group'] + list(data.columns[2:5]):\n",
    "    plt.figure(figsize=(10, 5))\n",
    "    data['hue'] = data.apply(lambda row: f\"{row[column]}_{row['group']}\", axis=1)\n",
    "    \n",
    "    ax = sns.histplot(data, x='sales_mobile', hue='hue', bins=100)\n",
    "\n",
    "    for p in ax.patches:\n",
    "        if p.get_height() > 0:\n",
    "            ax.annotate(f'{int(p.get_height())}', (p.get_x() + p.get_width() / 2., p.get_height()),\n",
    "                    ha='center', va='center', fontsize=9, color='black', xytext=(0, 5),\n",
    "                    textcoords='offset points')\n",
    "\n",
    "    plt.title(f'Распределение покупок в мобильном приложении\\nдля {column}')\n",
    "    plt.show()"
   ]
  },
  {
   "cell_type": "code",
   "execution_count": 9,
   "id": "387dbf2f",
   "metadata": {},
   "outputs": [],
   "source": [
    "#заполним пропуски\n",
    "data.fillna(0, inplace=True)"
   ]
  },
  {
   "cell_type": "markdown",
   "id": "3426120b",
   "metadata": {},
   "source": [
    "**Смотрим статистику по группам**"
   ]
  },
  {
   "cell_type": "code",
   "execution_count": 10,
   "id": "b964fbd6",
   "metadata": {},
   "outputs": [
    {
     "data": {
      "text/html": [
       "<div>\n",
       "<style scoped>\n",
       "    .dataframe tbody tr th:only-of-type {\n",
       "        vertical-align: middle;\n",
       "    }\n",
       "\n",
       "    .dataframe tbody tr th {\n",
       "        vertical-align: top;\n",
       "    }\n",
       "\n",
       "    .dataframe thead th {\n",
       "        text-align: right;\n",
       "    }\n",
       "</style>\n",
       "<table border=\"1\" class=\"dataframe\">\n",
       "  <thead>\n",
       "    <tr style=\"text-align: right;\">\n",
       "      <th></th>\n",
       "      <th>count</th>\n",
       "      <th>mean</th>\n",
       "      <th>median</th>\n",
       "      <th>std</th>\n",
       "    </tr>\n",
       "    <tr>\n",
       "      <th>group</th>\n",
       "      <th></th>\n",
       "      <th></th>\n",
       "      <th></th>\n",
       "      <th></th>\n",
       "    </tr>\n",
       "  </thead>\n",
       "  <tbody>\n",
       "    <tr>\n",
       "      <th>control</th>\n",
       "      <td>5231</td>\n",
       "      <td>7.656280</td>\n",
       "      <td>0.0</td>\n",
       "      <td>147.503745</td>\n",
       "    </tr>\n",
       "    <tr>\n",
       "      <th>pilot</th>\n",
       "      <td>5231</td>\n",
       "      <td>5.072644</td>\n",
       "      <td>0.0</td>\n",
       "      <td>87.620305</td>\n",
       "    </tr>\n",
       "  </tbody>\n",
       "</table>\n",
       "</div>"
      ],
      "text/plain": [
       "         count      mean  median         std\n",
       "group                                       \n",
       "control   5231  7.656280     0.0  147.503745\n",
       "pilot     5231  5.072644     0.0   87.620305"
      ]
     },
     "execution_count": 10,
     "metadata": {},
     "output_type": "execute_result"
    }
   ],
   "source": [
    "data.groupby(['group'])['sales_mobile'].agg(['count', 'mean', 'median', 'std'])"
   ]
  },
  {
   "cell_type": "markdown",
   "id": "f4978136",
   "metadata": {},
   "source": [
    "**Смотрим статистику в группах в зависимости от прочтения письма**"
   ]
  },
  {
   "cell_type": "code",
   "execution_count": 11,
   "id": "ffba4fdc",
   "metadata": {},
   "outputs": [
    {
     "data": {
      "text/html": [
       "<div>\n",
       "<style scoped>\n",
       "    .dataframe tbody tr th:only-of-type {\n",
       "        vertical-align: middle;\n",
       "    }\n",
       "\n",
       "    .dataframe tbody tr th {\n",
       "        vertical-align: top;\n",
       "    }\n",
       "\n",
       "    .dataframe thead th {\n",
       "        text-align: right;\n",
       "    }\n",
       "</style>\n",
       "<table border=\"1\" class=\"dataframe\">\n",
       "  <thead>\n",
       "    <tr style=\"text-align: right;\">\n",
       "      <th></th>\n",
       "      <th></th>\n",
       "      <th>count</th>\n",
       "      <th>mean</th>\n",
       "      <th>median</th>\n",
       "      <th>std</th>\n",
       "    </tr>\n",
       "    <tr>\n",
       "      <th>group</th>\n",
       "      <th>flg_read_email</th>\n",
       "      <th></th>\n",
       "      <th></th>\n",
       "      <th></th>\n",
       "      <th></th>\n",
       "    </tr>\n",
       "  </thead>\n",
       "  <tbody>\n",
       "    <tr>\n",
       "      <th rowspan=\"2\" valign=\"top\">control</th>\n",
       "      <th>N</th>\n",
       "      <td>4060</td>\n",
       "      <td>2.235222</td>\n",
       "      <td>0.0</td>\n",
       "      <td>29.327018</td>\n",
       "    </tr>\n",
       "    <tr>\n",
       "      <th>Y</th>\n",
       "      <td>1171</td>\n",
       "      <td>26.451751</td>\n",
       "      <td>0.0</td>\n",
       "      <td>306.297063</td>\n",
       "    </tr>\n",
       "    <tr>\n",
       "      <th rowspan=\"2\" valign=\"top\">pilot</th>\n",
       "      <th>N</th>\n",
       "      <td>3996</td>\n",
       "      <td>2.048298</td>\n",
       "      <td>0.0</td>\n",
       "      <td>37.272160</td>\n",
       "    </tr>\n",
       "    <tr>\n",
       "      <th>Y</th>\n",
       "      <td>1235</td>\n",
       "      <td>14.858300</td>\n",
       "      <td>0.0</td>\n",
       "      <td>167.079136</td>\n",
       "    </tr>\n",
       "  </tbody>\n",
       "</table>\n",
       "</div>"
      ],
      "text/plain": [
       "                        count       mean  median         std\n",
       "group   flg_read_email                                      \n",
       "control N                4060   2.235222     0.0   29.327018\n",
       "        Y                1171  26.451751     0.0  306.297063\n",
       "pilot   N                3996   2.048298     0.0   37.272160\n",
       "        Y                1235  14.858300     0.0  167.079136"
      ]
     },
     "execution_count": 11,
     "metadata": {},
     "output_type": "execute_result"
    }
   ],
   "source": [
    "data.groupby(['group', 'flg_read_email'])['sales_mobile'].agg(['count', 'mean', 'median', 'std'])"
   ]
  },
  {
   "cell_type": "markdown",
   "id": "e2fae74e",
   "metadata": {},
   "source": [
    "**Смотрим статисттику в группах в зависимости от перехода по ссылке**"
   ]
  },
  {
   "cell_type": "code",
   "execution_count": 12,
   "id": "8a333de7",
   "metadata": {},
   "outputs": [
    {
     "data": {
      "text/html": [
       "<div>\n",
       "<style scoped>\n",
       "    .dataframe tbody tr th:only-of-type {\n",
       "        vertical-align: middle;\n",
       "    }\n",
       "\n",
       "    .dataframe tbody tr th {\n",
       "        vertical-align: top;\n",
       "    }\n",
       "\n",
       "    .dataframe thead th {\n",
       "        text-align: right;\n",
       "    }\n",
       "</style>\n",
       "<table border=\"1\" class=\"dataframe\">\n",
       "  <thead>\n",
       "    <tr style=\"text-align: right;\">\n",
       "      <th></th>\n",
       "      <th></th>\n",
       "      <th>count</th>\n",
       "      <th>mean</th>\n",
       "      <th>median</th>\n",
       "      <th>std</th>\n",
       "    </tr>\n",
       "    <tr>\n",
       "      <th>group</th>\n",
       "      <th>flg_open_link_email</th>\n",
       "      <th></th>\n",
       "      <th></th>\n",
       "      <th></th>\n",
       "      <th></th>\n",
       "    </tr>\n",
       "  </thead>\n",
       "  <tbody>\n",
       "    <tr>\n",
       "      <th rowspan=\"2\" valign=\"top\">control</th>\n",
       "      <th>0</th>\n",
       "      <td>4977</td>\n",
       "      <td>2.860157</td>\n",
       "      <td>0.0</td>\n",
       "      <td>39.299561</td>\n",
       "    </tr>\n",
       "    <tr>\n",
       "      <th>1</th>\n",
       "      <td>254</td>\n",
       "      <td>101.633858</td>\n",
       "      <td>0.0</td>\n",
       "      <td>640.367968</td>\n",
       "    </tr>\n",
       "    <tr>\n",
       "      <th rowspan=\"2\" valign=\"top\">pilot</th>\n",
       "      <th>0</th>\n",
       "      <td>5010</td>\n",
       "      <td>3.062874</td>\n",
       "      <td>0.0</td>\n",
       "      <td>50.589804</td>\n",
       "    </tr>\n",
       "    <tr>\n",
       "      <th>1</th>\n",
       "      <td>221</td>\n",
       "      <td>50.633484</td>\n",
       "      <td>0.0</td>\n",
       "      <td>349.374189</td>\n",
       "    </tr>\n",
       "  </tbody>\n",
       "</table>\n",
       "</div>"
      ],
      "text/plain": [
       "                             count        mean  median         std\n",
       "group   flg_open_link_email                                       \n",
       "control 0                     4977    2.860157     0.0   39.299561\n",
       "        1                      254  101.633858     0.0  640.367968\n",
       "pilot   0                     5010    3.062874     0.0   50.589804\n",
       "        1                      221   50.633484     0.0  349.374189"
      ]
     },
     "execution_count": 12,
     "metadata": {},
     "output_type": "execute_result"
    }
   ],
   "source": [
    "data.groupby(['group', 'flg_open_link_email'])['sales_mobile'].agg(['count', 'mean', 'median', 'std'])"
   ]
  },
  {
   "cell_type": "markdown",
   "id": "9690cf26",
   "metadata": {},
   "source": [
    "**Смотрим конверсии в заказ**"
   ]
  },
  {
   "cell_type": "code",
   "execution_count": 13,
   "id": "f9f86927",
   "metadata": {},
   "outputs": [
    {
     "data": {
      "text/html": [
       "<div>\n",
       "<style scoped>\n",
       "    .dataframe tbody tr th:only-of-type {\n",
       "        vertical-align: middle;\n",
       "    }\n",
       "\n",
       "    .dataframe tbody tr th {\n",
       "        vertical-align: top;\n",
       "    }\n",
       "\n",
       "    .dataframe thead th {\n",
       "        text-align: right;\n",
       "    }\n",
       "</style>\n",
       "<table border=\"1\" class=\"dataframe\">\n",
       "  <thead>\n",
       "    <tr style=\"text-align: right;\">\n",
       "      <th></th>\n",
       "      <th>mean</th>\n",
       "    </tr>\n",
       "    <tr>\n",
       "      <th>group</th>\n",
       "      <th></th>\n",
       "    </tr>\n",
       "  </thead>\n",
       "  <tbody>\n",
       "    <tr>\n",
       "      <th>control</th>\n",
       "      <td>0.013191</td>\n",
       "    </tr>\n",
       "    <tr>\n",
       "      <th>pilot</th>\n",
       "      <td>0.010132</td>\n",
       "    </tr>\n",
       "  </tbody>\n",
       "</table>\n",
       "</div>"
      ],
      "text/plain": [
       "             mean\n",
       "group            \n",
       "control  0.013191\n",
       "pilot    0.010132"
      ]
     },
     "execution_count": 13,
     "metadata": {},
     "output_type": "execute_result"
    }
   ],
   "source": [
    "data['ctr'] = (data['sales_mobile']>0)*1\n",
    "data.groupby('group')['ctr'].agg(['mean'])"
   ]
  },
  {
   "cell_type": "code",
   "execution_count": 14,
   "id": "f36541cf",
   "metadata": {},
   "outputs": [
    {
     "data": {
      "text/html": [
       "<div>\n",
       "<style scoped>\n",
       "    .dataframe tbody tr th:only-of-type {\n",
       "        vertical-align: middle;\n",
       "    }\n",
       "\n",
       "    .dataframe tbody tr th {\n",
       "        vertical-align: top;\n",
       "    }\n",
       "\n",
       "    .dataframe thead th {\n",
       "        text-align: right;\n",
       "    }\n",
       "</style>\n",
       "<table border=\"1\" class=\"dataframe\">\n",
       "  <thead>\n",
       "    <tr style=\"text-align: right;\">\n",
       "      <th></th>\n",
       "      <th>user_id</th>\n",
       "      <th>group</th>\n",
       "    </tr>\n",
       "  </thead>\n",
       "  <tbody>\n",
       "  </tbody>\n",
       "</table>\n",
       "</div>"
      ],
      "text/plain": [
       "Empty DataFrame\n",
       "Columns: [user_id, group]\n",
       "Index: []"
      ]
     },
     "execution_count": 14,
     "metadata": {},
     "output_type": "execute_result"
    }
   ],
   "source": [
    "#проверим попал ли один пользователь в разные группы\n",
    "data.groupby('user_id')['group'].nunique().reset_index().query('group > 1')"
   ]
  },
  {
   "cell_type": "markdown",
   "id": "0d652fb6",
   "metadata": {},
   "source": [
    "## Вывод:\n",
    "- **Посмотрели распределение покупок в мобильном приложении, распределение скошенное, с пиком в нуле**\n",
    "- **В группах по 5231 пользователю, основная часть покупок в диапазоне до двух тысяч, так же есть несколько больших значений, поэтому среднее и дисперсия неккоректно отображают положение дел, конверсии в покупку на уровне 1% в обоих группах, далее попробуем провести тест корректности затем бакетный тест**"
   ]
  },
  {
   "cell_type": "markdown",
   "id": "02cb4c12",
   "metadata": {},
   "source": [
    "### **$H_0-$  $\\mu_{control} = \\mu_{control}$**\n",
    "### **$H_1-$  $\\mu_{control} \\neq \\mu_{control}$**\n",
    "### **$\\alpha = 0.05$**"
   ]
  },
  {
   "cell_type": "markdown",
   "id": "f52ba0d4",
   "metadata": {},
   "source": [
    "## mannwhitneyu A/A тест"
   ]
  },
  {
   "cell_type": "code",
   "execution_count": 15,
   "id": "71d286bf",
   "metadata": {},
   "outputs": [
    {
     "data": {
      "text/plain": [
       "MannwhitneyuResult(statistic=13681680.5, pvalue=1.0)"
      ]
     },
     "execution_count": 15,
     "metadata": {},
     "output_type": "execute_result"
    }
   ],
   "source": [
    "mannwhitneyu(data[data['group']=='control']['sales_mobile'], \n",
    "          data[data['group']=='control']['sales_mobile'])"
   ]
  },
  {
   "cell_type": "markdown",
   "id": "a25efa1e",
   "metadata": {},
   "source": [
    "## ttest A/A тест"
   ]
  },
  {
   "cell_type": "code",
   "execution_count": 16,
   "id": "668fb8db",
   "metadata": {},
   "outputs": [
    {
     "data": {
      "text/plain": [
       "Ttest_indResult(statistic=0.0, pvalue=1.0)"
      ]
     },
     "execution_count": 16,
     "metadata": {},
     "output_type": "execute_result"
    }
   ],
   "source": [
    "#для контрольной группы\n",
    "ttest_ind(data[data['group']=='control']['sales_mobile'], \n",
    "          data[data['group']=='control']['sales_mobile'], equal_var=False)"
   ]
  },
  {
   "cell_type": "markdown",
   "id": "66d179b7",
   "metadata": {},
   "source": [
    "#### Вывод:\n",
    "- **Проверили с помощью статистических тестов что различий на момент проведения теста в поведении пользователей нет**"
   ]
  },
  {
   "cell_type": "markdown",
   "id": "fd54a293",
   "metadata": {},
   "source": [
    "## A/B тест\n",
    "---"
   ]
  },
  {
   "cell_type": "markdown",
   "id": "be1dcec5",
   "metadata": {},
   "source": [
    "### mannwhitneyu "
   ]
  },
  {
   "cell_type": "code",
   "execution_count": 17,
   "id": "46d491f1",
   "metadata": {},
   "outputs": [
    {
     "data": {
      "text/plain": [
       "MannwhitneyuResult(statistic=13723568.5, pvalue=0.14473996638844117)"
      ]
     },
     "execution_count": 17,
     "metadata": {},
     "output_type": "execute_result"
    }
   ],
   "source": [
    "mannwhitneyu(data[data['group']=='control']['sales_mobile'], \n",
    "          data[data['group']=='pilot']['sales_mobile'])"
   ]
  },
  {
   "cell_type": "markdown",
   "id": "c4b6376d",
   "metadata": {},
   "source": [
    "###  ttest"
   ]
  },
  {
   "cell_type": "code",
   "execution_count": 18,
   "id": "5bff5175",
   "metadata": {},
   "outputs": [
    {
     "data": {
      "text/plain": [
       "Ttest_indResult(statistic=1.089166021495717, pvalue=0.27611151349489704)"
      ]
     },
     "execution_count": 18,
     "metadata": {},
     "output_type": "execute_result"
    }
   ],
   "source": [
    "ttest_ind(data[data['group']=='control']['sales_mobile'], \n",
    "          data[data['group']=='pilot']['sales_mobile'], equal_var=False)"
   ]
  },
  {
   "cell_type": "markdown",
   "id": "74abb976",
   "metadata": {},
   "source": [
    "# Бакетный тест\n",
    "\n",
    "### **$H_0-$  $\\mu_{control} = \\mu_{pilot}$**\n",
    "### **$H_1-$  $\\mu_{control} \\neq \\mu_{pilot}$**\n",
    "### **$\\alpha = 0.05$**"
   ]
  },
  {
   "cell_type": "code",
   "execution_count": 19,
   "id": "4a6a6a29",
   "metadata": {},
   "outputs": [],
   "source": [
    "#разделим пользователей на 100 бакетов по id и флагу прочтения письма \n",
    "num_buckets = 100\n",
    "\n",
    "data['bucket'] = (data.apply(lambda row:                           \n",
    "                  int(hashlib.md5(f\"{row['user_id']}_{row['flg_read_email']}\".encode()).hexdigest(), 16) % num_buckets, \n",
    "                                                                                                                 axis=1)\n",
    "                 )"
   ]
  },
  {
   "cell_type": "code",
   "execution_count": 20,
   "id": "51e44fa9",
   "metadata": {},
   "outputs": [
    {
     "data": {
      "image/png": "[encoded data removed]",
      "text/plain": [
       "<Figure size 640x480 with 1 Axes>"
      ]
     },
     "metadata": {},
     "output_type": "display_data"
    }
   ],
   "source": [
    "sns.histplot(data['bucket'])\n",
    "plt.title('Распределение пользователей в бакетах')\n",
    "plt.show()"
   ]
  },
  {
   "cell_type": "code",
   "execution_count": 21,
   "id": "0df98a2c",
   "metadata": {},
   "outputs": [
    {
     "data": {
      "text/html": [
       "<div>\n",
       "<style scoped>\n",
       "    .dataframe tbody tr th:only-of-type {\n",
       "        vertical-align: middle;\n",
       "    }\n",
       "\n",
       "    .dataframe tbody tr th {\n",
       "        vertical-align: top;\n",
       "    }\n",
       "\n",
       "    .dataframe thead th {\n",
       "        text-align: right;\n",
       "    }\n",
       "</style>\n",
       "<table border=\"1\" class=\"dataframe\">\n",
       "  <thead>\n",
       "    <tr style=\"text-align: right;\">\n",
       "      <th></th>\n",
       "      <th>group</th>\n",
       "      <th>bucket</th>\n",
       "      <th>sales_mobile</th>\n",
       "    </tr>\n",
       "  </thead>\n",
       "  <tbody>\n",
       "    <tr>\n",
       "      <th>0</th>\n",
       "      <td>control</td>\n",
       "      <td>0</td>\n",
       "      <td>540.0</td>\n",
       "    </tr>\n",
       "    <tr>\n",
       "      <th>1</th>\n",
       "      <td>control</td>\n",
       "      <td>1</td>\n",
       "      <td>150.0</td>\n",
       "    </tr>\n",
       "    <tr>\n",
       "      <th>2</th>\n",
       "      <td>control</td>\n",
       "      <td>2</td>\n",
       "      <td>0.0</td>\n",
       "    </tr>\n",
       "    <tr>\n",
       "      <th>3</th>\n",
       "      <td>control</td>\n",
       "      <td>3</td>\n",
       "      <td>100.0</td>\n",
       "    </tr>\n",
       "    <tr>\n",
       "      <th>4</th>\n",
       "      <td>control</td>\n",
       "      <td>4</td>\n",
       "      <td>200.0</td>\n",
       "    </tr>\n",
       "    <tr>\n",
       "      <th>...</th>\n",
       "      <td>...</td>\n",
       "      <td>...</td>\n",
       "      <td>...</td>\n",
       "    </tr>\n",
       "    <tr>\n",
       "      <th>195</th>\n",
       "      <td>pilot</td>\n",
       "      <td>95</td>\n",
       "      <td>300.0</td>\n",
       "    </tr>\n",
       "    <tr>\n",
       "      <th>196</th>\n",
       "      <td>pilot</td>\n",
       "      <td>96</td>\n",
       "      <td>2160.0</td>\n",
       "    </tr>\n",
       "    <tr>\n",
       "      <th>197</th>\n",
       "      <td>pilot</td>\n",
       "      <td>97</td>\n",
       "      <td>0.0</td>\n",
       "    </tr>\n",
       "    <tr>\n",
       "      <th>198</th>\n",
       "      <td>pilot</td>\n",
       "      <td>98</td>\n",
       "      <td>250.0</td>\n",
       "    </tr>\n",
       "    <tr>\n",
       "      <th>199</th>\n",
       "      <td>pilot</td>\n",
       "      <td>99</td>\n",
       "      <td>0.0</td>\n",
       "    </tr>\n",
       "  </tbody>\n",
       "</table>\n",
       "<p>200 rows × 3 columns</p>\n",
       "</div>"
      ],
      "text/plain": [
       "       group  bucket  sales_mobile\n",
       "0    control       0         540.0\n",
       "1    control       1         150.0\n",
       "2    control       2           0.0\n",
       "3    control       3         100.0\n",
       "4    control       4         200.0\n",
       "..       ...     ...           ...\n",
       "195    pilot      95         300.0\n",
       "196    pilot      96        2160.0\n",
       "197    pilot      97           0.0\n",
       "198    pilot      98         250.0\n",
       "199    pilot      99           0.0\n",
       "\n",
       "[200 rows x 3 columns]"
      ]
     },
     "execution_count": 21,
     "metadata": {},
     "output_type": "execute_result"
    }
   ],
   "source": [
    "bucket_data = data.groupby(['group', 'bucket'])['sales_mobile'].sum().reset_index()\n",
    "bucket_data"
   ]
  },
  {
   "cell_type": "code",
   "execution_count": 22,
   "id": "68a624a2",
   "metadata": {},
   "outputs": [
    {
     "data": {
      "text/plain": [
       "control    100\n",
       "pilot      100\n",
       "Name: group, dtype: int64"
      ]
     },
     "execution_count": 22,
     "metadata": {},
     "output_type": "execute_result"
    }
   ],
   "source": [
    "#проверим разбиение\n",
    "bucket_data['group'].value_counts()"
   ]
  },
  {
   "cell_type": "code",
   "execution_count": 23,
   "id": "f76405f2",
   "metadata": {},
   "outputs": [
    {
     "data": {
      "text/html": [
       "<div>\n",
       "<style scoped>\n",
       "    .dataframe tbody tr th:only-of-type {\n",
       "        vertical-align: middle;\n",
       "    }\n",
       "\n",
       "    .dataframe tbody tr th {\n",
       "        vertical-align: top;\n",
       "    }\n",
       "\n",
       "    .dataframe thead th {\n",
       "        text-align: right;\n",
       "    }\n",
       "</style>\n",
       "<table border=\"1\" class=\"dataframe\">\n",
       "  <thead>\n",
       "    <tr style=\"text-align: right;\">\n",
       "      <th></th>\n",
       "      <th>group</th>\n",
       "      <th>count</th>\n",
       "      <th>mean</th>\n",
       "      <th>median</th>\n",
       "      <th>std</th>\n",
       "    </tr>\n",
       "  </thead>\n",
       "  <tbody>\n",
       "    <tr>\n",
       "      <th>0</th>\n",
       "      <td>control</td>\n",
       "      <td>5231</td>\n",
       "      <td>7.656280</td>\n",
       "      <td>0.0</td>\n",
       "      <td>147.503745</td>\n",
       "    </tr>\n",
       "    <tr>\n",
       "      <th>1</th>\n",
       "      <td>pilot</td>\n",
       "      <td>5231</td>\n",
       "      <td>5.072644</td>\n",
       "      <td>0.0</td>\n",
       "      <td>87.620305</td>\n",
       "    </tr>\n",
       "  </tbody>\n",
       "</table>\n",
       "</div>"
      ],
      "text/plain": [
       "     group  count      mean  median         std\n",
       "0  control   5231  7.656280     0.0  147.503745\n",
       "1    pilot   5231  5.072644     0.0   87.620305"
      ]
     },
     "execution_count": 23,
     "metadata": {},
     "output_type": "execute_result"
    }
   ],
   "source": [
    "#статистики до разделения на бакеты\n",
    "data.groupby('group')['sales_mobile'].agg(['count', 'mean', 'median', 'std']).reset_index()"
   ]
  },
  {
   "cell_type": "code",
   "execution_count": 24,
   "id": "f934ea74",
   "metadata": {},
   "outputs": [
    {
     "data": {
      "text/html": [
       "<div>\n",
       "<style scoped>\n",
       "    .dataframe tbody tr th:only-of-type {\n",
       "        vertical-align: middle;\n",
       "    }\n",
       "\n",
       "    .dataframe tbody tr th {\n",
       "        vertical-align: top;\n",
       "    }\n",
       "\n",
       "    .dataframe thead th {\n",
       "        text-align: right;\n",
       "    }\n",
       "</style>\n",
       "<table border=\"1\" class=\"dataframe\">\n",
       "  <thead>\n",
       "    <tr style=\"text-align: right;\">\n",
       "      <th></th>\n",
       "      <th>group</th>\n",
       "      <th>count</th>\n",
       "      <th>mean</th>\n",
       "      <th>median</th>\n",
       "      <th>std</th>\n",
       "    </tr>\n",
       "  </thead>\n",
       "  <tbody>\n",
       "    <tr>\n",
       "      <th>0</th>\n",
       "      <td>control</td>\n",
       "      <td>100</td>\n",
       "      <td>400.50</td>\n",
       "      <td>82.5</td>\n",
       "      <td>1061.034253</td>\n",
       "    </tr>\n",
       "    <tr>\n",
       "      <th>1</th>\n",
       "      <td>pilot</td>\n",
       "      <td>100</td>\n",
       "      <td>265.35</td>\n",
       "      <td>0.0</td>\n",
       "      <td>671.490222</td>\n",
       "    </tr>\n",
       "  </tbody>\n",
       "</table>\n",
       "</div>"
      ],
      "text/plain": [
       "     group  count    mean  median          std\n",
       "0  control    100  400.50    82.5  1061.034253\n",
       "1    pilot    100  265.35     0.0   671.490222"
      ]
     },
     "execution_count": 24,
     "metadata": {},
     "output_type": "execute_result"
    }
   ],
   "source": [
    "#статистики после разделения на бакеты\n",
    "bucket_data.groupby('group')['sales_mobile'].agg(['count', 'mean', 'median', 'std']).reset_index()"
   ]
  },
  {
   "cell_type": "markdown",
   "id": "5524a08d",
   "metadata": {},
   "source": [
    "---"
   ]
  },
  {
   "cell_type": "code",
   "execution_count": 25,
   "id": "cc30da9e",
   "metadata": {},
   "outputs": [
    {
     "data": {
      "text/html": [
       "<div>\n",
       "<style scoped>\n",
       "    .dataframe tbody tr th:only-of-type {\n",
       "        vertical-align: middle;\n",
       "    }\n",
       "\n",
       "    .dataframe tbody tr th {\n",
       "        vertical-align: top;\n",
       "    }\n",
       "\n",
       "    .dataframe thead th {\n",
       "        text-align: right;\n",
       "    }\n",
       "</style>\n",
       "<table border=\"1\" class=\"dataframe\">\n",
       "  <thead>\n",
       "    <tr style=\"text-align: right;\">\n",
       "      <th></th>\n",
       "      <th>mean</th>\n",
       "    </tr>\n",
       "    <tr>\n",
       "      <th>group</th>\n",
       "      <th></th>\n",
       "    </tr>\n",
       "  </thead>\n",
       "  <tbody>\n",
       "    <tr>\n",
       "      <th>control</th>\n",
       "      <td>0.013191</td>\n",
       "    </tr>\n",
       "    <tr>\n",
       "      <th>pilot</th>\n",
       "      <td>0.010132</td>\n",
       "    </tr>\n",
       "  </tbody>\n",
       "</table>\n",
       "</div>"
      ],
      "text/plain": [
       "             mean\n",
       "group            \n",
       "control  0.013191\n",
       "pilot    0.010132"
      ]
     },
     "execution_count": 25,
     "metadata": {},
     "output_type": "execute_result"
    }
   ],
   "source": [
    "#конверсии до разделения на бакеты\n",
    "data.groupby('group')['ctr'].agg(['mean'])"
   ]
  },
  {
   "cell_type": "code",
   "execution_count": 26,
   "id": "230749d9",
   "metadata": {},
   "outputs": [
    {
     "data": {
      "text/html": [
       "<div>\n",
       "<style scoped>\n",
       "    .dataframe tbody tr th:only-of-type {\n",
       "        vertical-align: middle;\n",
       "    }\n",
       "\n",
       "    .dataframe tbody tr th {\n",
       "        vertical-align: top;\n",
       "    }\n",
       "\n",
       "    .dataframe thead th {\n",
       "        text-align: right;\n",
       "    }\n",
       "</style>\n",
       "<table border=\"1\" class=\"dataframe\">\n",
       "  <thead>\n",
       "    <tr style=\"text-align: right;\">\n",
       "      <th></th>\n",
       "      <th>mean</th>\n",
       "    </tr>\n",
       "    <tr>\n",
       "      <th>group</th>\n",
       "      <th></th>\n",
       "    </tr>\n",
       "  </thead>\n",
       "  <tbody>\n",
       "    <tr>\n",
       "      <th>control</th>\n",
       "      <td>0.54</td>\n",
       "    </tr>\n",
       "    <tr>\n",
       "      <th>pilot</th>\n",
       "      <td>0.38</td>\n",
       "    </tr>\n",
       "  </tbody>\n",
       "</table>\n",
       "</div>"
      ],
      "text/plain": [
       "         mean\n",
       "group        \n",
       "control  0.54\n",
       "pilot    0.38"
      ]
     },
     "execution_count": 26,
     "metadata": {},
     "output_type": "execute_result"
    }
   ],
   "source": [
    "#конверсии после разделения на бакеты\n",
    "bucket_data['ctr'] = (bucket_data['sales_mobile']>0)*1\n",
    "bucket_data.groupby('group')['ctr'].agg(['mean'])"
   ]
  },
  {
   "cell_type": "markdown",
   "id": "2c3f1336",
   "metadata": {},
   "source": [
    "### mannwhitneyu + бакетное разделение"
   ]
  },
  {
   "cell_type": "code",
   "execution_count": 27,
   "id": "b100e153",
   "metadata": {},
   "outputs": [
    {
     "data": {
      "text/plain": [
       "MannwhitneyuResult(statistic=5828.0, pvalue=0.02759860115681885)"
      ]
     },
     "execution_count": 27,
     "metadata": {},
     "output_type": "execute_result"
    }
   ],
   "source": [
    "mannwhitneyu(bucket_data[bucket_data['group']=='control']['sales_mobile'], \n",
    "             bucket_data[bucket_data['group']=='pilot']['sales_mobile'])"
   ]
  },
  {
   "cell_type": "markdown",
   "id": "f33ecd81",
   "metadata": {},
   "source": [
    "### ttest_ind + бакетное разделение"
   ]
  },
  {
   "cell_type": "code",
   "execution_count": 28,
   "id": "82570b09",
   "metadata": {},
   "outputs": [
    {
     "data": {
      "text/plain": [
       "Ttest_indResult(statistic=1.0763227180362878, pvalue=0.2833322414538402)"
      ]
     },
     "execution_count": 28,
     "metadata": {},
     "output_type": "execute_result"
    }
   ],
   "source": [
    "ttest_ind(bucket_data[bucket_data['group']=='control']['sales_mobile'], \n",
    "          bucket_data[bucket_data['group']=='pilot']['sales_mobile'], equal_var=False)"
   ]
  },
  {
   "cell_type": "code",
   "execution_count": 29,
   "id": "5e08a1f8",
   "metadata": {},
   "outputs": [
    {
     "name": "stdout",
     "output_type": "stream",
     "text": [
      "Нижняя граница: 223.149 Верхняя граница: 467.001\n",
      "delta:  243.8512499999998\n"
     ]
    }
   ],
   "source": [
    "bs = stats.bootstrap(data=(bucket_data['sales_mobile'].values,),\n",
    "          statistic=np.mean,\n",
    "          confidence_level=0.95,\n",
    "          n_resamples=100000,\n",
    "          method='percentile').confidence_interval\n",
    "print('Нижняя граница:', round(bs.low, 3), 'Верхняя граница:', round(bs.high, 3)) \n",
    "print('delta: ',bs.high - bs.low)"
   ]
  },
  {
   "cell_type": "code",
   "execution_count": 30,
   "id": "ed48b08c",
   "metadata": {},
   "outputs": [
    {
     "data": {
      "application/vnd.jupyter.widget-view+json": {
       "model_id": "216de33e21404e6aa46735154356d57c",
       "version_major": 2,
       "version_minor": 0
      },
      "text/plain": [
       "  0%|          | 0/100000 [00:00<?, ?it/s]"
      ]
     },
     "metadata": {},
     "output_type": "display_data"
    }
   ],
   "source": [
    "res = []\n",
    "for _ in tqdm(range(100_000)):\n",
    "    sample = bucket_data['sales_mobile'].sample(200, replace=True)\n",
    "    res.append(sample.mean())"
   ]
  },
  {
   "cell_type": "code",
   "execution_count": 31,
   "id": "09ce6e62",
   "metadata": {},
   "outputs": [
    {
     "data": {
      "image/png": "[encoded data removed]",
      "text/plain": [
       "<Figure size 1000x500 with 1 Axes>"
      ]
     },
     "metadata": {},
     "output_type": "display_data"
    }
   ],
   "source": [
    "plt.figure(figsize=(10, 5))\n",
    "sns.histplot(res, legend=True,)\n",
    "plt.axvline(np.mean(res) - 1.96*np.std(res), color='r', linestyle='--', label='95% дов.интервал')\n",
    "plt.axvline(np.mean(res) + 1.96*np.std(res), color='r', linestyle='--')\n",
    "plt.title('Распределение среднего')\n",
    "plt.legend()\n",
    "plt.grid()\n",
    "plt.show()"
   ]
  },
  {
   "cell_type": "markdown",
   "id": "207cc0e8",
   "metadata": {},
   "source": [
    "---\n",
    "$\\hat{mu} \\pm 1.96 * \\hat{std}$"
   ]
  },
  {
   "cell_type": "code",
   "execution_count": 32,
   "id": "694b8cce",
   "metadata": {},
   "outputs": [
    {
     "name": "stdout",
     "output_type": "stream",
     "text": [
      "Нижняя граница: 210.101 Верхняя граница: 455.455\n"
     ]
    }
   ],
   "source": [
    "# 95 % доверительный интервал по формуле\n",
    "print('Нижняя граница:',round(np.mean(res) - 1.96*np.std(res), 3), \n",
    "      'Верхняя граница:',round(np.mean(res) + 1.96*np.std(res), 3))"
   ]
  },
  {
   "cell_type": "code",
   "execution_count": 33,
   "id": "0c6db6f7",
   "metadata": {},
   "outputs": [
    {
     "data": {
      "application/vnd.jupyter.widget-view+json": {
       "model_id": "0ee0d6f079d845dd87bdde5fb9f939ea",
       "version_major": 2,
       "version_minor": 0
      },
      "text/plain": [
       "  0%|          | 0/10000 [00:00<?, ?it/s]"
      ]
     },
     "metadata": {},
     "output_type": "display_data"
    }
   ],
   "source": [
    "#посмотрим как распределены выборочные средние в группах\n",
    "a_ctr = []\n",
    "b_pil = []\n",
    "\n",
    "n = 10_000\n",
    "\n",
    "for _ in tqdm(range(n)):\n",
    "    a = bucket_data[bucket_data['group']=='control']['sales_mobile'].sample(100, replace=True)\n",
    "    b = bucket_data[bucket_data['group']=='pilot']['sales_mobile'].sample(100, replace=True)\n",
    "    a_ctr.append(a.mean())\n",
    "    b_pil.append(b.mean())"
   ]
  },
  {
   "cell_type": "code",
   "execution_count": 34,
   "id": "702b6be1",
   "metadata": {},
   "outputs": [
    {
     "data": {
      "image/png": "[encoded data removed]",
      "text/plain": [
       "<Figure size 1000x500 with 1 Axes>"
      ]
     },
     "metadata": {},
     "output_type": "display_data"
    }
   ],
   "source": [
    "plt.figure(figsize=(10, 5))\n",
    "sns.histplot(a_ctr,color='yellow', label='control')\n",
    "sns.histplot(b_pil, label='pilot')\n",
    "plt.grid()\n",
    "plt.axvline(np.mean(a_ctr), color='black', linestyle='--', label='mean_control')\n",
    "plt.axvline(np.mean(b_pil), color='black', linestyle='-', label='mean_pilot')\n",
    "plt.legend()\n",
    "plt.title('Распределение выборочных средних')\n",
    "plt.show()"
   ]
  },
  {
   "cell_type": "markdown",
   "id": "72d5f9f7",
   "metadata": {},
   "source": [
    "## Итоговый вывод:\n",
    "- **Познакомились с данными, распределение в данных скошено влево, с пиком в нуле, большая часть данных находится в диапазоне до двух тысяч, так же есть несколько пользователей с покупками более четырех тысяч**\n",
    "\n",
    "\n",
    "- **Провели ttest и тест mannwhitneyu на исходных данных получили pvalue 0.276 и 0.144 соответственно, далее будем использовать тест mannwhitneyu потому что у нас несколько пользователей с заказами более двух тысяч, когда основная часть с чеками до двух тысяч, тест mannwhitneyu не чувствителен к выбросам**\n",
    "\n",
    "\n",
    "- **Увеличили чувствительность с помощью бакетного теста, разделили пользователей на 100 бакетов в качестве salt использовали id пользователя и флаг прочтения письма, получили более адекватные средние и дисперсию: среднее в контрольной группе = 400, в пилотной 265, до бакетирования 7 и 5**\n",
    "\n",
    "\n",
    "- **Посчитали доверительный интервал для среднего, можно на это посмотреть как если бы мы провели еще сто a/b тест, то с 95% вероятностью истинное среднее будет находиться в интервале в нашем случае от 220 до 455**\n",
    "\n",
    "\n",
    "**Решение:**\n",
    "---\n",
    "- **Значение pvalue полученное на тесте mannwhitneyu меньше выбранного уровня значимости 0.02 < 0.05, отвергаем $H_0$ о равенстве средних между группами, среднее в группах control=400р, pilot=265р, среднее в пилотной группе ниже. Проверили конверсию в заказ в группах после бакетирования control=0.54, pilot=0.38, конверсия в пилотной группе ниже. `По итогу предлагаю отказаться от внедрения нового макета.` Так же чтобы снизить дисперсию в данных и повысить чувствительность(уверенность теста) возможны следующие варианты: добавить продажи за предпериод и использовать cuped, и нет информации стратифицировались ли пользователи во время эксперимента, если нет то можно провести пост стратификацию.**\n",
    "\n",
    "\n",
    "- **Таблица с результатами**\n",
    "\n",
    "|statistics|before bucket|after bucket|\n",
    "|----------|----------|----------|\n",
    "| **Mean** |**control=7, pilot=5**|**control=400, pilot=265**|\n",
    "| **Std**  |**control=147, pilot=87**|**control=1061, pilot=671**|\n",
    "| **Ctr**  |**control=1.3%, pilot=1%**|**control=54%, pilot=38%**|\n"
   ]
  },
  {
   "cell_type": "code",
   "execution_count": null,
   "id": "147cd34a",
   "metadata": {},
   "outputs": [],
   "source": []
  }
 ],
 "metadata": {
  "kernelspec": {
   "display_name": "Python 3 (ipykernel)",
   "language": "python",
   "name": "python3"
  },
  "language_info": {
   "codemirror_mode": {
    "name": "ipython",
    "version": 3
   },
   "file_extension": ".py",
   "mimetype": "text/x-python",
   "name": "python",
   "nbconvert_exporter": "python",
   "pygments_lexer": "ipython3",
   "version": "3.9.13"
  }
 },
 "nbformat": 4,
 "nbformat_minor": 5
}
