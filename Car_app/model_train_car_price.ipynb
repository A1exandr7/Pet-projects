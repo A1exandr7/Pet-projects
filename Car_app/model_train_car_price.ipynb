{
 "cells": [
  {
   "cell_type": "markdown",
   "id": "2b8c05ca",
   "metadata": {},
   "source": [
    "## Определение стоимости автомобиля\n",
    "### Вы - компания стартап, помогающая определять цену на старые автомобили, для этого у вас есть набор данных из четырех признаков, в качестве метрики выступае MAE(средняя абсолютная ошибка), MAE должна составлять менее 2.5 тысяч\n",
    "\n",
    "#### Задачи: \n",
    "1. Построете модель прогнозирования цен на автомобили для дальнейшей интеграция ее в приложение FastAPI\n",
    "2. Реализуйте конечную точку для добавления пользователя в базу данных\n",
    "3. Реализуйте конечную точку для добавления автомобиля пользователю\n",
    "4. Реализуйте конечную точку которая вернет пользователю его автомобили выставленные на продажу\n",
    "5. Реализуйте конечную точку в приложении которая вернет данные о зарегистрированных пользователях\n",
    "6. Реализуйте конечную точку в приложении для прогнозирования цен на автомобили.\n",
    "7. Реализуйте конечную точку в приложении чтобы пользователь мог обновить цену на свой автомобиль\n",
    "\n",
    "\n",
    "**Данные:**\n",
    "- `fuel-type` - тип топлива\n",
    "- `num-of-cylinders` - количество цилиндров\n",
    "- `num-of-doors` - количество дверей\n",
    "- `horsepower` - количество лошадиных сил\n",
    "- `price` - цена, рубли"
   ]
  },
  {
   "cell_type": "code",
   "execution_count": 1,
   "id": "94a90cbf",
   "metadata": {},
   "outputs": [],
   "source": [
    "import pandas as pd\n",
    "from IPython.display import display\n",
    "import numpy as np\n",
    "import matplotlib.pyplot as plt\n",
    "import seaborn as sns\n",
    "from sklearn.utils import shuffle\n",
    "from sklearn.tree import DecisionTreeRegressor\n",
    "from sklearn.metrics import mean_absolute_error\n",
    "from sklearn.ensemble import RandomForestRegressor\n",
    "from sklearn.model_selection import GridSearchCV\n",
    "import joblib\n",
    "import sqlite3\n",
    "pd.set_option('display.max_columns', 30)"
   ]
  },
  {
   "cell_type": "markdown",
   "id": "9fb5c27d",
   "metadata": {},
   "source": [
    "### 1. Знакомство с данными"
   ]
  },
  {
   "cell_type": "code",
   "execution_count": 2,
   "id": "2c588454",
   "metadata": {},
   "outputs": [
    {
     "data": {
      "text/html": [
       "<div>\n",
       "<style scoped>\n",
       "    .dataframe tbody tr th:only-of-type {\n",
       "        vertical-align: middle;\n",
       "    }\n",
       "\n",
       "    .dataframe tbody tr th {\n",
       "        vertical-align: top;\n",
       "    }\n",
       "\n",
       "    .dataframe thead th {\n",
       "        text-align: right;\n",
       "    }\n",
       "</style>\n",
       "<table border=\"1\" class=\"dataframe\">\n",
       "  <thead>\n",
       "    <tr style=\"text-align: right;\">\n",
       "      <th></th>\n",
       "      <th>fuel-type</th>\n",
       "      <th>num-of-cylinders</th>\n",
       "      <th>num-of-doors</th>\n",
       "      <th>horsepower</th>\n",
       "      <th>price</th>\n",
       "    </tr>\n",
       "  </thead>\n",
       "  <tbody>\n",
       "    <tr>\n",
       "      <th>0</th>\n",
       "      <td>gas</td>\n",
       "      <td>four</td>\n",
       "      <td>two</td>\n",
       "      <td>111.0</td>\n",
       "      <td>13495.0</td>\n",
       "    </tr>\n",
       "    <tr>\n",
       "      <th>1</th>\n",
       "      <td>gas</td>\n",
       "      <td>four</td>\n",
       "      <td>two</td>\n",
       "      <td>111.0</td>\n",
       "      <td>16500.0</td>\n",
       "    </tr>\n",
       "    <tr>\n",
       "      <th>2</th>\n",
       "      <td>gas</td>\n",
       "      <td>six</td>\n",
       "      <td>two</td>\n",
       "      <td>154.0</td>\n",
       "      <td>16500.0</td>\n",
       "    </tr>\n",
       "    <tr>\n",
       "      <th>3</th>\n",
       "      <td>gas</td>\n",
       "      <td>four</td>\n",
       "      <td>four</td>\n",
       "      <td>102.0</td>\n",
       "      <td>13950.0</td>\n",
       "    </tr>\n",
       "    <tr>\n",
       "      <th>4</th>\n",
       "      <td>gas</td>\n",
       "      <td>five</td>\n",
       "      <td>four</td>\n",
       "      <td>115.0</td>\n",
       "      <td>17450.0</td>\n",
       "    </tr>\n",
       "  </tbody>\n",
       "</table>\n",
       "</div>"
      ],
      "text/plain": [
       "  fuel-type num-of-cylinders num-of-doors  horsepower    price\n",
       "0       gas             four          two       111.0  13495.0\n",
       "1       gas             four          two       111.0  16500.0\n",
       "2       gas              six          two       154.0  16500.0\n",
       "3       gas             four         four       102.0  13950.0\n",
       "4       gas             five         four       115.0  17450.0"
      ]
     },
     "execution_count": 2,
     "metadata": {},
     "output_type": "execute_result"
    }
   ],
   "source": [
    "#загрузим данные\n",
    "data = pd.read_csv('autos_app.csv', \n",
    "                   engine='pyarrow', \n",
    "                   usecols=['fuel-type', 'num-of-cylinders', \n",
    "                            'num-of-doors', 'horsepower', \n",
    "                            'price'])\n",
    "data.head()"
   ]
  },
  {
   "cell_type": "code",
   "execution_count": 3,
   "id": "a47d7470",
   "metadata": {},
   "outputs": [],
   "source": [
    "def eda(data):\n",
    "    print(f'Размер таблицы: {data.shape}')\n",
    "    print(f'Типы данных: \\n{data.dtypes}')\n",
    "    print(f'Пропусков в данных: \\n{data.isna().sum()}')\n",
    "    display(data.describe())\n",
    "    for column in data.columns:\n",
    "        plt.title(f'{column}')\n",
    "        plt.grid()\n",
    "        sns.histplot(data[column], legend=True)\n",
    "        plt.show()"
   ]
  },
  {
   "cell_type": "code",
   "execution_count": 4,
   "id": "5d74c671",
   "metadata": {
    "scrolled": false
   },
   "outputs": [
    {
     "name": "stdout",
     "output_type": "stream",
     "text": [
      "Размер таблицы: (205, 5)\n",
      "Типы данных: \n",
      "fuel-type            object\n",
      "num-of-cylinders     object\n",
      "num-of-doors         object\n",
      "horsepower          float64\n",
      "price               float64\n",
      "dtype: object\n",
      "Пропусков в данных: \n",
      "fuel-type           0\n",
      "num-of-cylinders    0\n",
      "num-of-doors        0\n",
      "horsepower          2\n",
      "price               4\n",
      "dtype: int64\n"
     ]
    },
    {
     "data": {
      "text/html": [
       "<div>\n",
       "<style scoped>\n",
       "    .dataframe tbody tr th:only-of-type {\n",
       "        vertical-align: middle;\n",
       "    }\n",
       "\n",
       "    .dataframe tbody tr th {\n",
       "        vertical-align: top;\n",
       "    }\n",
       "\n",
       "    .dataframe thead th {\n",
       "        text-align: right;\n",
       "    }\n",
       "</style>\n",
       "<table border=\"1\" class=\"dataframe\">\n",
       "  <thead>\n",
       "    <tr style=\"text-align: right;\">\n",
       "      <th></th>\n",
       "      <th>horsepower</th>\n",
       "      <th>price</th>\n",
       "    </tr>\n",
       "  </thead>\n",
       "  <tbody>\n",
       "    <tr>\n",
       "      <th>count</th>\n",
       "      <td>203.000000</td>\n",
       "      <td>201.000000</td>\n",
       "    </tr>\n",
       "    <tr>\n",
       "      <th>mean</th>\n",
       "      <td>104.256158</td>\n",
       "      <td>13207.129353</td>\n",
       "    </tr>\n",
       "    <tr>\n",
       "      <th>std</th>\n",
       "      <td>39.714369</td>\n",
       "      <td>7947.066342</td>\n",
       "    </tr>\n",
       "    <tr>\n",
       "      <th>min</th>\n",
       "      <td>48.000000</td>\n",
       "      <td>5118.000000</td>\n",
       "    </tr>\n",
       "    <tr>\n",
       "      <th>25%</th>\n",
       "      <td>70.000000</td>\n",
       "      <td>7775.000000</td>\n",
       "    </tr>\n",
       "    <tr>\n",
       "      <th>50%</th>\n",
       "      <td>95.000000</td>\n",
       "      <td>10295.000000</td>\n",
       "    </tr>\n",
       "    <tr>\n",
       "      <th>75%</th>\n",
       "      <td>116.000000</td>\n",
       "      <td>16500.000000</td>\n",
       "    </tr>\n",
       "    <tr>\n",
       "      <th>max</th>\n",
       "      <td>288.000000</td>\n",
       "      <td>45400.000000</td>\n",
       "    </tr>\n",
       "  </tbody>\n",
       "</table>\n",
       "</div>"
      ],
      "text/plain": [
       "       horsepower         price\n",
       "count  203.000000    201.000000\n",
       "mean   104.256158  13207.129353\n",
       "std     39.714369   7947.066342\n",
       "min     48.000000   5118.000000\n",
       "25%     70.000000   7775.000000\n",
       "50%     95.000000  10295.000000\n",
       "75%    116.000000  16500.000000\n",
       "max    288.000000  45400.000000"
      ]
     },
     "metadata": {},
     "output_type": "display_data"
    },
    {
     "data": {
      "image/png": "[encoded data removed]",
      "text/plain": [
       "<Figure size 640x480 with 1 Axes>"
      ]
     },
     "metadata": {},
     "output_type": "display_data"
    },
    {
     "data": {
      "image/png": "[encoded data removed]",
      "text/plain": [
       "<Figure size 640x480 with 1 Axes>"
      ]
     },
     "metadata": {},
     "output_type": "display_data"
    },
    {
     "data": {
      "image/png": "[encoded data removed]",
      "text/plain": [
       "<Figure size 640x480 with 1 Axes>"
      ]
     },
     "metadata": {},
     "output_type": "display_data"
    },
    {
     "data": {
      "image/png": "[encoded data removed]",
      "text/plain": [
       "<Figure size 640x480 with 1 Axes>"
      ]
     },
     "metadata": {},
     "output_type": "display_data"
    },
    {
     "data": {
      "image/png": "[encoded data removed]",
      "text/plain": [
       "<Figure size 640x480 with 1 Axes>"
      ]
     },
     "metadata": {},
     "output_type": "display_data"
    }
   ],
   "source": [
    "eda(data)"
   ]
  },
  {
   "cell_type": "markdown",
   "id": "8e6b1368",
   "metadata": {},
   "source": [
    "### Вывод:\n",
    "- Познакомились с данными:\n",
    "    - 205 объектов и 4 признака + целевой для каждого\n",
    "    - Присутствуют пропуски в признаке horsepower и в целевом, нужно разбираться в причинах их появления\n",
    "    - Тип топлива в нашем случае бензин и дизель(автомо на бензине больше чем на авто на дизеле)\n",
    "    - Присутствуют автомобили с двумя, тремя, четырьмя(самый распространенный класс), пятью, шестью, восьмью и двенадцатью цилиндрами\n",
    "    - Присутствуют автомобили с двумя или четырьмя дверями, так же объекты не имеющие названия, их немного предлагаю удалить\n",
    "    - По лошодиным силам особо ничего не выделить, пристутствуют авто с мощность более 250, основная часть автомобилей до 150\n",
    "    - В признаке цена 75% авто продается по цене до 20 тысяч, максимальная цена за авто 45 тысяч"
   ]
  },
  {
   "cell_type": "code",
   "execution_count": 5,
   "id": "eff2cf85",
   "metadata": {},
   "outputs": [
    {
     "data": {
      "text/plain": [
       "fuel-type           0\n",
       "num-of-cylinders    0\n",
       "num-of-doors        0\n",
       "horsepower          0\n",
       "price               0\n",
       "dtype: int64"
      ]
     },
     "execution_count": 5,
     "metadata": {},
     "output_type": "execute_result"
    }
   ],
   "source": [
    "#уберем объекты с пропусками\n",
    "data = data[~data['price'].isna()].copy()\n",
    "\n",
    "#уберем пустое значение\n",
    "data = data[data['num-of-doors'] != ''].copy()\n",
    "\n",
    "#заполним пропускм в признаки л.с\n",
    "data['horsepower'].fillna(data['horsepower'].mean(), inplace=True)\n",
    "\n",
    "\n",
    "#проверим\n",
    "data.isna().sum()"
   ]
  },
  {
   "cell_type": "code",
   "execution_count": 6,
   "id": "8868c87b",
   "metadata": {},
   "outputs": [
    {
     "name": "stdout",
     "output_type": "stream",
     "text": [
      "[1 0]\n",
      "[ 4  6  5  3 12  2  8]\n",
      "[2 4]\n"
     ]
    }
   ],
   "source": [
    "#заменим на числа\n",
    "data.replace({'gas': 1, 'diesel':0,\n",
    "              'four': 4, 'six': 6, \n",
    "              'two': 2, 'eight': 8, \n",
    "              'three': 3, 'twelve': 12, \n",
    "              'five': 5}, inplace=True)\n",
    "\n",
    "#проверим\n",
    "print(data['fuel-type'].unique())\n",
    "print(data['num-of-cylinders'].unique())\n",
    "print(data['num-of-doors'].unique())"
   ]
  },
  {
   "cell_type": "markdown",
   "id": "5f4e4fef",
   "metadata": {},
   "source": [
    "### 2. Построение модели"
   ]
  },
  {
   "cell_type": "code",
   "execution_count": 7,
   "id": "f33f81fc",
   "metadata": {},
   "outputs": [
    {
     "data": {
      "text/plain": [
       "((99, 5), (100, 5))"
      ]
     },
     "execution_count": 7,
     "metadata": {},
     "output_type": "execute_result"
    }
   ],
   "source": [
    "#разделям данные для обучения и валидации\n",
    "size = len(data)//2\n",
    "data = shuffle(data, random_state=1)\n",
    "\n",
    "train = data[:size].copy()\n",
    "valid = data[size:].copy()\n",
    "\n",
    "train.shape, valid.shape"
   ]
  },
  {
   "cell_type": "code",
   "execution_count": 8,
   "id": "60328980",
   "metadata": {},
   "outputs": [],
   "source": [
    "def make_predict(train, valid, model):\n",
    "    train = train.copy()\n",
    "    valid = valid.copy()\n",
    "    \n",
    "    X_train = train.drop('price', axis=1)\n",
    "    y_train = train['price']\n",
    "        \n",
    "    X_valid = valid.drop('price', axis=1)\n",
    "    y_valid = valid['price']\n",
    "    model = model\n",
    "    \n",
    "    model.fit(X_train, y_train)\n",
    "    y_pred = model.predict(X_valid)\n",
    "    score = mean_absolute_error(y_valid, y_pred)\n",
    "    return score"
   ]
  },
  {
   "cell_type": "code",
   "execution_count": 9,
   "id": "c1eb0915",
   "metadata": {},
   "outputs": [
    {
     "data": {
      "text/plain": [
       "2735.6094130591637"
      ]
     },
     "execution_count": 9,
     "metadata": {},
     "output_type": "execute_result"
    }
   ],
   "source": [
    "make_predict(train, valid, DecisionTreeRegressor(random_state=1, max_depth=3))"
   ]
  },
  {
   "cell_type": "code",
   "execution_count": 10,
   "id": "8c65860a",
   "metadata": {},
   "outputs": [
    {
     "data": {
      "text/plain": [
       "2641.443212624781"
      ]
     },
     "execution_count": 10,
     "metadata": {},
     "output_type": "execute_result"
    }
   ],
   "source": [
    "make_predict(train, valid, RandomForestRegressor(random_state=1, max_depth=3))"
   ]
  },
  {
   "cell_type": "markdown",
   "id": "8f0248a3",
   "metadata": {},
   "source": [
    "#### Вывод:\n",
    "|**Model**  |**MAE**|    \n",
    "|:---|:---:|\n",
    "|DecisionTree|**2.735**|\n",
    "|RandomForest|**2.641**|\n",
    "\n",
    "**Оставим лес и попытаемся настроить с помощью поиска по сетке**"
   ]
  },
  {
   "cell_type": "code",
   "execution_count": 11,
   "id": "24d87f89",
   "metadata": {},
   "outputs": [],
   "source": [
    "def get_params(train, model):\n",
    "    \n",
    "    train = train.copy()\n",
    "    \n",
    "    X_train = train.drop('price', axis=1)\n",
    "    y_train = train['price']\n",
    "    \n",
    "    param_grid={'max_depth':[2, 3, 4, 5, 6],\n",
    "            'n_estimators':[100, 200, 300]}\n",
    "\n",
    "    grid = GridSearchCV(model, param_grid=param_grid, cv=2, scoring='neg_mean_absolute_error', verbose=1)\n",
    "    grid.fit(X_train, y_train)\n",
    "    \n",
    "    return grid.best_params_"
   ]
  },
  {
   "cell_type": "code",
   "execution_count": 12,
   "id": "7c383391",
   "metadata": {},
   "outputs": [
    {
     "name": "stdout",
     "output_type": "stream",
     "text": [
      "Fitting 2 folds for each of 15 candidates, totalling 30 fits\n"
     ]
    },
    {
     "data": {
      "text/plain": [
       "{'max_depth': 5, 'n_estimators': 300}"
      ]
     },
     "execution_count": 12,
     "metadata": {},
     "output_type": "execute_result"
    }
   ],
   "source": [
    "result = get_params(train, RandomForestRegressor(random_state=1, n_jobs=-1))\n",
    "result"
   ]
  },
  {
   "cell_type": "code",
   "execution_count": 13,
   "id": "ceb06c84",
   "metadata": {},
   "outputs": [
    {
     "data": {
      "text/plain": [
       "2261.1526174132923"
      ]
     },
     "execution_count": 13,
     "metadata": {},
     "output_type": "execute_result"
    }
   ],
   "source": [
    "make_predict(train, valid, RandomForestRegressor(random_state=1, n_jobs=-1, **result))"
   ]
  },
  {
   "cell_type": "code",
   "execution_count": 14,
   "id": "4249a979",
   "metadata": {},
   "outputs": [
    {
     "data": {
      "text/plain": [
       "Index(['fuel-type', 'num-of-cylinders', 'num-of-doors', 'horsepower', 'price'], dtype='object')"
      ]
     },
     "execution_count": 14,
     "metadata": {},
     "output_type": "execute_result"
    }
   ],
   "source": [
    "data.columns"
   ]
  },
  {
   "cell_type": "code",
   "execution_count": 15,
   "id": "cab744d7",
   "metadata": {},
   "outputs": [
    {
     "data": {
      "text/plain": [
       "'Ok_save_model'"
      ]
     },
     "execution_count": 15,
     "metadata": {},
     "output_type": "execute_result"
    }
   ],
   "source": [
    "def save_model(model, name):\n",
    "    X = data.drop('price', axis=1).to_numpy()\n",
    "    y = data['price']\n",
    "    model = model\n",
    "    model.fit(X, y)\n",
    "    joblib.dump(model, f'{name}.pkl')\n",
    "    return 'Ok_save_model'\n",
    "\n",
    "save_model(RandomForestRegressor(random_state=1, **result, n_jobs=-1), 'rf_model_total')"
   ]
  },
  {
   "cell_type": "markdown",
   "id": "5042ee47",
   "metadata": {},
   "source": [
    "### Summary:\n",
    "- Попробовали две модели: дерево решений и случайный лес\n",
    "|**Model**  |**MAE**|    \n",
    "|:---|:---:|\n",
    "|DecisionTree|2.735|\n",
    "|RandomForest|2.641|\n",
    "|**RandomForest_total**|**2.261**|\n",
    "\n",
    "- Выбрали модель случайный лес так как средняя абсолютная ошибка у этой модели меньше, сама модель более устойчива к изменениям в данных по сравнению с деревор решений\n",
    "- Подобрали гиперпараметры\n",
    "- Так же нужно разбираться в причинах появления пропусков в данных"
   ]
  },
  {
   "cell_type": "code",
   "execution_count": null,
   "id": "41b5f33e",
   "metadata": {},
   "outputs": [],
   "source": []
  }
 ],
 "metadata": {
  "kernelspec": {
   "display_name": "Python 3 (ipykernel)",
   "language": "python",
   "name": "python3"
  },
  "language_info": {
   "codemirror_mode": {
    "name": "ipython",
    "version": 3
   },
   "file_extension": ".py",
   "mimetype": "text/x-python",
   "name": "python",
   "nbconvert_exporter": "python",
   "pygments_lexer": "ipython3",
   "version": "3.9.13"
  }
 },
 "nbformat": 4,
 "nbformat_minor": 5
}
